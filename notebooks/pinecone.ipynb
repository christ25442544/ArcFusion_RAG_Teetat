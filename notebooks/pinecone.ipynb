{
 "cells": [
  {
   "cell_type": "code",
   "execution_count": 2,
   "metadata": {},
   "outputs": [
    {
     "data": {
      "text/plain": [
       "True"
      ]
     },
     "execution_count": 2,
     "metadata": {},
     "output_type": "execute_result"
    }
   ],
   "source": [
    "from dotenv import load_dotenv\n",
    "import os\n",
    "load_dotenv()\n"
   ]
  },
  {
   "cell_type": "code",
   "execution_count": 4,
   "metadata": {},
   "outputs": [],
   "source": [
    "import os\n",
    "import logging\n",
    "from dotenv import load_dotenv\n",
    "from langchain.embeddings.base import Embeddings\n",
    "import bs4\n",
    "from langchain_core.vectorstores import InMemoryVectorStore\n",
    "\n",
    "import asyncio\n",
    "\n",
    "load_dotenv()\n",
    "\n",
    "# Embeddings service using Azure OpenAI API\n",
    "class EmbeddingsService:\n",
    "    def __init__(self):\n",
    "        from openai import AzureOpenAI\n",
    "        self.client = AzureOpenAI(\n",
    "            azure_endpoint=os.getenv(\"AZURE_OPENAI_ENDPOINT\"),\n",
    "            api_key=os.getenv(\"AZURE_OPENAI_API_KEY\"),\n",
    "            api_version=os.getenv(\"API_VERSION\")\n",
    "        )\n",
    "        self.model_name = os.getenv(\"MODEL_NAME\")\n",
    "\n",
    "    async def get_embeddings(self, text: str):\n",
    "        try:\n",
    "            response = self.client.embeddings.create(input=text, model=\"embedding\")\n",
    "            result = response.data[0].embedding\n",
    "            logging.info(f\"Full embedding: {result}\")\n",
    "            logging.info(f\"dimension: {len(result)}\")\n",
    "            return result\n",
    "        except Exception as e:\n",
    "            logging.error(f\"Error generating embeddings: {str(e)}\")\n",
    "            return []\n",
    "\n",
    "class CustomAzureOpenAIEmbeddings(Embeddings):\n",
    "    def __init__(self, embedding_service: EmbeddingsService):\n",
    "        self.embedding_service = embedding_service\n",
    "\n",
    "    def embed_query(self, text: str):\n",
    "        # Use asyncio.run to get synchronous embeddings for a single query\n",
    "        result = asyncio.run(self.embedding_service.get_embeddings(text))\n",
    "        return result\n",
    "\n",
    "    def embed_documents(self, texts: list):\n",
    "        # Run each async embedding call synchronously\n",
    "        results = [asyncio.run(self.embedding_service.get_embeddings(text)) for text in texts]\n",
    "        return results\n",
    "    \n",
    "# Initialize the custom embedding service and pass it into the RAG setup\n",
    "embedding_service = EmbeddingsService()\n",
    "custom_embeddings = CustomAzureOpenAIEmbeddings(embedding_service)\n"
   ]
  },
  {
   "cell_type": "code",
   "execution_count": null,
   "metadata": {},
   "outputs": [
    {
     "name": "stderr",
     "output_type": "stream",
     "text": [
      "Created a chunk of size 2404, which is longer than the specified 300\n",
      "Created a chunk of size 951, which is longer than the specified 300\n"
     ]
    }
   ],
   "source": [
    "from langchain_community.document_loaders import TextLoader\n",
    "from langchain_text_splitters import CharacterTextSplitter\n",
    "\n",
    "# Load the document, split it into chunks, and embed each chunk.\n",
    "loader = TextLoader(\"corpus.txt\")\n",
    "documents = loader.load()\n",
    "text_splitter = CharacterTextSplitter(chunk_size=300, chunk_overlap=100)\n",
    "docs = text_splitter.split_documents(documents)\n",
    "\n",
    "embeddings = custom_embeddings"
   ]
  },
  {
   "cell_type": "code",
   "execution_count": 9,
   "metadata": {},
   "outputs": [],
   "source": [
    "import nest_asyncio\n",
    "nest_asyncio.apply()"
   ]
  },
  {
   "cell_type": "code",
   "execution_count": 10,
   "metadata": {},
   "outputs": [],
   "source": [
    "from langchain_pinecone import PineconeVectorStore\n",
    "\n",
    "\n",
    "index_name = \"arctest\"\n",
    "\n",
    "import asyncio\n",
    "\n",
    "async def initialize_pinecone_index():\n",
    "    # Assume this is where PineconeVectorStore interacts with asyncio\n",
    "    docsearch = PineconeVectorStore.from_documents(docs, embeddings, index_name=index_name)\n",
    "    return docsearch\n",
    "\n",
    "# Run the function in the existing event loop\n",
    "docsearch = await initialize_pinecone_index()"
   ]
  },
  {
   "cell_type": "code",
   "execution_count": 11,
   "metadata": {},
   "outputs": [
    {
     "ename": "NameError",
     "evalue": "name 'db' is not defined",
     "output_type": "error",
     "traceback": [
      "\u001b[0;31m---------------------------------------------------------------------------\u001b[0m",
      "\u001b[0;31mNameError\u001b[0m                                 Traceback (most recent call last)",
      "Cell \u001b[0;32mIn[11], line 2\u001b[0m\n\u001b[1;32m      1\u001b[0m query \u001b[38;5;241m=\u001b[39m \u001b[38;5;124m\"\u001b[39m\u001b[38;5;124mWhat did the president say about Ketanji Brown Jackson\u001b[39m\u001b[38;5;124m\"\u001b[39m\n\u001b[0;32m----> 2\u001b[0m docs \u001b[38;5;241m=\u001b[39m \u001b[43mdb\u001b[49m\u001b[38;5;241m.\u001b[39msimilarity_search(query)\n\u001b[1;32m      3\u001b[0m \u001b[38;5;28mprint\u001b[39m(docs[\u001b[38;5;241m0\u001b[39m]\u001b[38;5;241m.\u001b[39mpage_content)\n",
      "\u001b[0;31mNameError\u001b[0m: name 'db' is not defined"
     ]
    }
   ],
   "source": [
    "query = \"What did the president say about Ketanji Brown Jackson\"\n",
    "docs = db.similarity_search(query)\n",
    "print(docs[0].page_content)"
   ]
  },
  {
   "cell_type": "code",
   "execution_count": null,
   "metadata": {},
   "outputs": [],
   "source": []
  }
 ],
 "metadata": {
  "kernelspec": {
   "display_name": "myenv",
   "language": "python",
   "name": "python3"
  },
  "language_info": {
   "codemirror_mode": {
    "name": "ipython",
    "version": 3
   },
   "file_extension": ".py",
   "mimetype": "text/x-python",
   "name": "python",
   "nbconvert_exporter": "python",
   "pygments_lexer": "ipython3",
   "version": "3.11.6"
  }
 },
 "nbformat": 4,
 "nbformat_minor": 2
}
